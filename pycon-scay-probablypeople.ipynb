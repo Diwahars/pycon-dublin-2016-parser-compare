{
 "cells": [
  {
   "cell_type": "code",
   "execution_count": 19,
   "metadata": {
    "collapsed": true
   },
   "outputs": [],
   "source": [
    "import probablepeople as pp\n",
    "from spacy.en import English\n",
    "sp = English()"
   ]
  },
  {
   "cell_type": "code",
   "execution_count": 36,
   "metadata": {
    "collapsed": false
   },
   "outputs": [
    {
     "data": {
      "text/plain": [
       "[(u'George', 'GivenName'),\n",
       " (u'Bluth', 'Surname'),\n",
       " (u'\"Gob\"', 'Nickname'),\n",
       " (u'II', 'Surname')]"
      ]
     },
     "execution_count": 36,
     "metadata": {},
     "output_type": "execute_result"
    }
   ],
   "source": [
    "pp.parse(u'George Bluth \"Gob\" II')"
   ]
  },
  {
   "cell_type": "code",
   "execution_count": 37,
   "metadata": {
    "collapsed": true
   },
   "outputs": [],
   "source": [
    "sentence =u'What a silly name George Bluth \"Gob\" II has.'"
   ]
  },
  {
   "cell_type": "code",
   "execution_count": 38,
   "metadata": {
    "collapsed": false
   },
   "outputs": [
    {
     "data": {
      "text/plain": [
       "[(u'What', 'CorporationName'),\n",
       " (u'a', 'CorporationName'),\n",
       " (u'silly', 'CorporationName'),\n",
       " (u'name', 'CorporationName'),\n",
       " (u'George', 'CorporationName'),\n",
       " (u'Bluth', 'CorporationName'),\n",
       " (u'\"Gob\"', 'CorporationName'),\n",
       " (u'II', 'CorporationName'),\n",
       " (u'has.', 'CorporationName')]"
      ]
     },
     "execution_count": 38,
     "metadata": {},
     "output_type": "execute_result"
    }
   ],
   "source": [
    "pp.parse(sentence)"
   ]
  },
  {
   "cell_type": "code",
   "execution_count": 39,
   "metadata": {
    "collapsed": false
   },
   "outputs": [
    {
     "name": "stdout",
     "output_type": "stream",
     "text": [
      "[(u'What', u'WP'), (u'a', u'DT'), (u'silly', u'JJ'), (u'name', u'NN'), (u'George', u'NNP'), (u'Bluth', u'NNP'), (u'\"', u\"''\"), (u'Gob', u'NNP'), (u'\"', u\"''\"), (u'II', u'NNP'), (u'has', u'VBZ'), (u'.', u'.')]\n"
     ]
    }
   ],
   "source": [
    "print([(word.orth_,word.tag_) for word in sp(sentence)])"
   ]
  },
  {
   "cell_type": "markdown",
   "metadata": {},
   "source": [
    "### Grab the NNP Proper Nouns"
   ]
  },
  {
   "cell_type": "code",
   "execution_count": 40,
   "metadata": {
    "collapsed": false
   },
   "outputs": [],
   "source": [
    "nnpWords = ([(word.orth_) for word in sp(sentence) if word.tag_ in ['NNP']])"
   ]
  },
  {
   "cell_type": "code",
   "execution_count": 41,
   "metadata": {
    "collapsed": false
   },
   "outputs": [
    {
     "data": {
      "text/plain": [
       "[(u'George', 'GivenName'),\n",
       " (u'Bluth', 'Surname'),\n",
       " (u'Gob', 'GivenName'),\n",
       " (u'II', 'Surname')]"
      ]
     },
     "execution_count": 41,
     "metadata": {},
     "output_type": "execute_result"
    }
   ],
   "source": [
    "pp.parse(' '.join(nnpWords))"
   ]
  }
 ],
 "metadata": {
  "anaconda-cloud": {},
  "kernelspec": {
   "display_name": "Python [conda root]",
   "language": "python",
   "name": "conda-root-py"
  },
  "language_info": {
   "codemirror_mode": {
    "name": "ipython",
    "version": 2
   },
   "file_extension": ".py",
   "mimetype": "text/x-python",
   "name": "python",
   "nbconvert_exporter": "python",
   "pygments_lexer": "ipython2",
   "version": "2.7.12"
  }
 },
 "nbformat": 4,
 "nbformat_minor": 1
}
